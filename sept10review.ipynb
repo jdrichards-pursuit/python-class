{
 "cells": [
  {
   "cell_type": "code",
   "execution_count": 1,
   "metadata": {},
   "outputs": [
    {
     "name": "stdout",
     "output_type": "stream",
     "text": [
      "hello world\n"
     ]
    }
   ],
   "source": [
    "print(\"hello world\")"
   ]
  },
  {
   "cell_type": "markdown",
   "metadata": {},
   "source": [
    "Write a Python program that takes a string as input and prints the reverse of the string."
   ]
  },
  {
   "cell_type": "code",
   "execution_count": 2,
   "metadata": {},
   "outputs": [
    {
     "name": "stdout",
     "output_type": "stream",
     "text": [
      "!yzarc og s'teL\n"
     ]
    }
   ],
   "source": [
    "str=\"Let's go crazy!\"\n",
    "print(str[::-1])"
   ]
  },
  {
   "cell_type": "markdown",
   "metadata": {},
   "source": [
    "Write a Python program that takes a string and two integers \n",
    "a and b as input and prints the substring from index \n",
    "a to b\n",
    "\n",
    "Input: \"abcdef\", 1, 4\n",
    "Output: \"bcd\""
   ]
  },
  {
   "cell_type": "code",
   "execution_count": 3,
   "metadata": {},
   "outputs": [
    {
     "name": "stdout",
     "output_type": "stream",
     "text": [
      "ercalifra\n"
     ]
    }
   ],
   "source": [
    "str=\"Supercalifragilisticexpialidocious\"\n",
    "a,b=3,12\n",
    "\n",
    "print(str[a:b])\n"
   ]
  },
  {
   "cell_type": "markdown",
   "metadata": {},
   "source": [
    "Write a Python program that takes two strings as input and prints their concatenation.\n",
    "\n",
    "Input: \"hello\", \"world\"\n",
    "Output: \"helloworld\""
   ]
  },
  {
   "cell_type": "code",
   "execution_count": 4,
   "metadata": {},
   "outputs": [
    {
     "name": "stdout",
     "output_type": "stream",
     "text": [
      "I Love Python\n"
     ]
    }
   ],
   "source": [
    "str1=\"I Love\"\n",
    "str2=\"Python\"\n",
    "\n",
    "print(str1 + \" \" + str2)"
   ]
  },
  {
   "cell_type": "markdown",
   "metadata": {},
   "source": [
    "Write a Python program that takes a string and an integer n as input and prints the string repeated n times.\n",
    "\n",
    "Input: \"abc\", 3\n",
    "\n",
    "Output: \"abcabcabc\"\n"
   ]
  },
  {
   "cell_type": "code",
   "execution_count": 7,
   "metadata": {},
   "outputs": [
    {
     "name": "stdout",
     "output_type": "stream",
     "text": [
      "4\n"
     ]
    }
   ],
   "source": [
    "str='1'\n",
    "num = 4\n",
    "\n",
    "print(str * num)"
   ]
  },
  {
   "cell_type": "markdown",
   "metadata": {},
   "source": [
    "Write a Python program that takes a string and prints a slice of the string from index -4 to the end.\n",
    "\n",
    "Input: \"abcdefgh\"\n",
    "Output: \"efgh\""
   ]
  },
  {
   "cell_type": "code",
   "execution_count": 8,
   "metadata": {},
   "outputs": [
    {
     "name": "stdout",
     "output_type": "stream",
     "text": [
      "ious\n"
     ]
    }
   ],
   "source": [
    "str = \"curious\"\n",
    "\n",
    "print(str[-4:])\n"
   ]
  },
  {
   "cell_type": "markdown",
   "metadata": {},
   "source": [
    "Write a Python program that takes two strings and inserts the second string into the middle of the first string.\n",
    "\n",
    "Input: \"Hi\", \"world\"\n",
    "Output: \"hworldi\""
   ]
  },
  {
   "cell_type": "code",
   "execution_count": 10,
   "metadata": {},
   "outputs": [
    {
     "name": "stdout",
     "output_type": "stream",
     "text": [
      "2\n"
     ]
    }
   ],
   "source": [
    "str = \"Hi\"\n",
    "str2 = \"World\"\n",
    "\n",
    "# print(f\"{str} again {str2}\")\n",
    "\n",
    "print (len(str))"
   ]
  },
  {
   "cell_type": "markdown",
   "metadata": {},
   "source": [
    "Write a Python program that takes a string as input and prints the last character using a negative index.\n",
    "\n",
    "Input: \"Python\"\n",
    "\n",
    "Output: \"n\""
   ]
  },
  {
   "cell_type": "code",
   "execution_count": 11,
   "metadata": {},
   "outputs": [
    {
     "name": "stdout",
     "output_type": "stream",
     "text": [
      "n\n"
     ]
    }
   ],
   "source": [
    "str =\"participation\"\n",
    "\n",
    "print(str[-1])"
   ]
  },
  {
   "cell_type": "markdown",
   "metadata": {},
   "source": [
    "Write a Python program that takes a string and prints the string in all uppercase."
   ]
  },
  {
   "cell_type": "code",
   "execution_count": 12,
   "metadata": {},
   "outputs": [
    {
     "name": "stdout",
     "output_type": "stream",
     "text": [
      "UPPERCASE\n"
     ]
    }
   ],
   "source": [
    "str=\"uppercase\"\n",
    "\n",
    "print(str.upper())"
   ]
  },
  {
   "cell_type": "markdown",
   "metadata": {},
   "source": [
    "Write a Python program that takes a string and prints the string with the first character uppered and the rest in lowercase."
   ]
  },
  {
   "cell_type": "code",
   "execution_count": 17,
   "metadata": {},
   "outputs": [
    {
     "name": "stdout",
     "output_type": "stream",
     "text": [
      "John Glenn Is An Astronaut\n"
     ]
    }
   ],
   "source": [
    "str = \"john glenn is an astronaut\"\n",
    "\n",
    "print(str.title())"
   ]
  },
  {
   "cell_type": "markdown",
   "metadata": {},
   "source": [
    "Write a Python program that takes a string and flips all of the cases of the letters."
   ]
  },
  {
   "cell_type": "code",
   "execution_count": 20,
   "metadata": {},
   "outputs": [
    {
     "name": "stdout",
     "output_type": "stream",
     "text": [
      "BeETlEjUICE\n"
     ]
    }
   ],
   "source": [
    "str = \"bEetLeJuice\"\n",
    "\n",
    "print(str.swapcase())"
   ]
  },
  {
   "cell_type": "markdown",
   "metadata": {},
   "source": [
    "Format a string to use variables and the literal string as well.\n",
    "It should out put the following:\n",
    "\"The price of Cheese is $20.80\" based on the variables below and the calculations done. Use f-string formatting."
   ]
  },
  {
   "cell_type": "code",
   "execution_count": 32,
   "metadata": {},
   "outputs": [
    {
     "name": "stdout",
     "output_type": "stream",
     "text": [
      "The price of Cheese is $20.80\n"
     ]
    }
   ],
   "source": [
    "str1 = \"Cheese\"\n",
    "price = 20\n",
    "taxPercent = .04\n",
    "\n",
    "print(f\"The price of {str1} is ${(price + (price * taxPercent)):.2f}\")"
   ]
  }
 ],
 "metadata": {
  "kernelspec": {
   "display_name": "venv",
   "language": "python",
   "name": "python3"
  },
  "language_info": {
   "codemirror_mode": {
    "name": "ipython",
    "version": 3
   },
   "file_extension": ".py",
   "mimetype": "text/x-python",
   "name": "python",
   "nbconvert_exporter": "python",
   "pygments_lexer": "ipython3",
   "version": "3.12.5"
  }
 },
 "nbformat": 4,
 "nbformat_minor": 2
}
