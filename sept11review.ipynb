{
 "cells": [
  {
   "cell_type": "markdown",
   "metadata": {},
   "source": [
    "Given two float numbers, divide the first number by the second number using integer division.\n",
    "\n",
    "Input: 10.0, 3.0\n",
    "Output: 3\n",
    "\n",
    "Input: 10.0, 3.5\n",
    "Output: 2\n",
    "\n",
    "Input: 10.0, 3.1\n",
    "Output: 3"
   ]
  },
  {
   "cell_type": "code",
   "execution_count": 2,
   "metadata": {},
   "outputs": [],
   "source": [
    "num1 = 10.5\n",
    "num2 = 3.7"
   ]
  },
  {
   "cell_type": "markdown",
   "metadata": {},
   "source": [
    "What are the 3 types of numbers in python?"
   ]
  },
  {
   "cell_type": "markdown",
   "metadata": {},
   "source": [
    "Add two float numbers together and print the result. Make sure to get the most accurate result.\n",
    "\n",
    "Input: 10.0, 3.0\n",
    "Output: 13.0\n",
    "\n",
    "Input: 10.0, 3.5\n",
    "Output: 13.5\n",
    "\n",
    "Input: 10.0, 3.1\n",
    "Output: 13.1"
   ]
  },
  {
   "cell_type": "code",
   "execution_count": null,
   "metadata": {},
   "outputs": [],
   "source": []
  },
  {
   "cell_type": "markdown",
   "metadata": {},
   "source": [
    "What values are falsey in python that are truthy in javascript?"
   ]
  },
  {
   "cell_type": "markdown",
   "metadata": {},
   "source": [
    "Write a conditional that checks if a number is even or odd. Print the result. Print \"Even\" if the number is even, \"Odd\" if the number is odd. If the number is 0, print \"Zero\".\n",
    "\n",
    "Input: 10\n",
    "Output: Even\n",
    "\n",
    "Input: 11\n",
    "Output: Odd\n",
    "\n",
    "Input: 0\n",
    "Output: Zero\n",
    "\n",
    "\n"
   ]
  },
  {
   "cell_type": "code",
   "execution_count": null,
   "metadata": {},
   "outputs": [],
   "source": []
  },
  {
   "cell_type": "markdown",
   "metadata": {},
   "source": [
    "Write a conditional that returns True if a and b are divisible by 5 or c and d are divisible by 2. Return False otherwise."
   ]
  },
  {
   "cell_type": "code",
   "execution_count": null,
   "metadata": {},
   "outputs": [],
   "source": []
  },
  {
   "cell_type": "markdown",
   "metadata": {},
   "source": [
    "Write a conditional that checks if a value is in a list. Print \"Found\" if the value is in the list, \"Not Found\" if the value is not in the list.\n",
    "\n",
    "Input: 10, [1, 2, 3, 4, 5, 6, 7, 8, 9, 10]\n",
    "Output: Found\n",
    "\n",
    "Input: 11, [1, 2, 3, 4, 5, 6, 7, 8, 9, 10]\n",
    "Output: Not Found"
   ]
  },
  {
   "cell_type": "markdown",
   "metadata": {},
   "source": [
    "Write a conditional that checks to see if a value is false or falsey. Print \"False\" if the value is false or falsey, \"True\" if the value is true or truthy. Use the 'not' operator.\n",
    "\n",
    "Input: 0\n",
    "Output: False\n",
    "\n",
    "Input: 1\n",
    "Output: True\n",
    "\n",
    "Input: \"\"\n",
    "Output: False\n",
    "\n",
    "\n"
   ]
  },
  {
   "cell_type": "code",
   "execution_count": null,
   "metadata": {},
   "outputs": [],
   "source": []
  },
  {
   "cell_type": "markdown",
   "metadata": {},
   "source": [
    "Add a value to the end of a list. Print the list.\n",
    "\n",
    "Input: [1, 2, 3, 4, 5]\n",
    "Output: [1, 2, 3, 4, 5, 6]\n",
    "\n",
    "Input: [1, 2, 3, 4, 5]\n",
    "Output: [1, 2, 3, 4, 5, 6]"
   ]
  },
  {
   "cell_type": "code",
   "execution_count": null,
   "metadata": {},
   "outputs": [],
   "source": [
    "list1 = [1, 2, 3, 4, 5]\n",
    "num_to_add = 6"
   ]
  },
  {
   "cell_type": "markdown",
   "metadata": {},
   "source": [
    "Add 3 values to the end of a list. Print the list.\n",
    "\n",
    "Input: [1, 2, 3, 4, 5]\n",
    "Output: [1, 2, 3, 4, 5, 6, 7, 8]\n",
    "\n",
    "Input: [1, 2, 3, 4, 5]\n",
    "Output: [1, 2, 3, 4, 5, 6, 7, 8]\n"
   ]
  },
  {
   "cell_type": "code",
   "execution_count": null,
   "metadata": {},
   "outputs": [],
   "source": [
    "list1 = [1, 2, 3, 4, 5]\n",
    "num_to_add = 6\n",
    "num_to_add2 = 7\n",
    "num_to_add3 = 8"
   ]
  },
  {
   "cell_type": "markdown",
   "metadata": {},
   "source": [
    "Given a list and a value, remove the value from the list"
   ]
  },
  {
   "cell_type": "code",
   "execution_count": null,
   "metadata": {},
   "outputs": [],
   "source": [
    "list1 = [1,5,2,6,4,2,7]\n",
    "val = 2"
   ]
  },
  {
   "cell_type": "code",
   "execution_count": null,
   "metadata": {},
   "outputs": [],
   "source": [
    "list1 = [1,5,2,6,4,2,7]\n",
    "val = 2\n",
    "\n",
    "list1.remove(2)\n",
    "print(list1)"
   ]
  },
  {
   "cell_type": "markdown",
   "metadata": {},
   "source": [
    "Access a given value from a multi-dimensional list. Print the value.\n"
   ]
  },
  {
   "cell_type": "code",
   "execution_count": null,
   "metadata": {},
   "outputs": [],
   "source": [
    "list2 = [[1, 2, 3], [4, 5, 6], [7, 8, 9]]\n",
    "value_to_access = 8"
   ]
  },
  {
   "cell_type": "markdown",
   "metadata": {},
   "source": [
    "Given a list of numbers, a value, and a position, insert the value at the given position in the list. Print the list.\n",
    "\n",
    "Input: [1, 2, 3, 4, 5], 6, 2\n",
    "Output: [1, 2, 6, 3, 4, 5]\n",
    "\n",
    "Input: [1, 2, 3, 4, 5], 6, 0\n",
    "Output: [6, 1, 2, 3, 4, 5]"
   ]
  },
  {
   "cell_type": "code",
   "execution_count": null,
   "metadata": {},
   "outputs": [],
   "source": []
  }
 ],
 "metadata": {
  "kernelspec": {
   "display_name": "venv",
   "language": "python",
   "name": "python3"
  },
  "language_info": {
   "codemirror_mode": {
    "name": "ipython",
    "version": 3
   },
   "file_extension": ".py",
   "mimetype": "text/x-python",
   "name": "python",
   "nbconvert_exporter": "python",
   "pygments_lexer": "ipython3",
   "version": "3.12.5"
  }
 },
 "nbformat": 4,
 "nbformat_minor": 2
}
