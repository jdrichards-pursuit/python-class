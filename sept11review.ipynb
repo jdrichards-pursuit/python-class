{
 "cells": [
  {
   "cell_type": "markdown",
   "metadata": {},
   "source": [
    "Given two float numbers, divide the first number by the second number using integer division.\n",
    "\n",
    "Input: 10.0, 3.0\n",
    "Output: 3\n",
    "\n",
    "Input: 10.0, 3.5\n",
    "Output: 2\n",
    "\n",
    "Input: 10.0, 3.1\n",
    "Output: 3"
   ]
  },
  {
   "cell_type": "code",
   "execution_count": 2,
   "metadata": {},
   "outputs": [
    {
     "name": "stdout",
     "output_type": "stream",
     "text": [
      "2.0\n"
     ]
    }
   ],
   "source": [
    "num1 = 10.5\n",
    "num2 = 3.7\n",
    "\n",
    "\n",
    "print(num1 // num2)"
   ]
  },
  {
   "cell_type": "markdown",
   "metadata": {},
   "source": [
    "What are the 3 types of numbers in python?"
   ]
  },
  {
   "cell_type": "markdown",
   "metadata": {},
   "source": [
    "Add two float numbers together and print the result. Make sure to get the most accurate result.\n",
    "\n",
    "Input: 10.0, 3.0\n",
    "Output: 13.0\n",
    "\n",
    "Input: 10.0, 3.5\n",
    "Output: 13.5\n",
    "\n",
    "Input: 10.0, 3.1\n",
    "Output: 13.1"
   ]
  },
  {
   "cell_type": "code",
   "execution_count": 8,
   "metadata": {},
   "outputs": [
    {
     "name": "stdout",
     "output_type": "stream",
     "text": [
      "19.50\n"
     ]
    }
   ],
   "source": [
    "import decimal\n",
    "\n",
    "num1 = 10.3\n",
    "num2 = 9.2\n",
    "\n",
    "\n",
    "\n",
    "result = decimal.Decimal(num1) + decimal.Decimal(num2)\n",
    "\n",
    "print(f\"{result:.2f}\")\n",
    "\n"
   ]
  },
  {
   "cell_type": "markdown",
   "metadata": {},
   "source": [
    "What values are falsey in python that are truthy in javascript?"
   ]
  },
  {
   "cell_type": "markdown",
   "metadata": {},
   "source": [
    "[]\n",
    "{}\n",
    "''\n",
    "()\n",
    "set\n",
    "range(0)\n"
   ]
  },
  {
   "cell_type": "markdown",
   "metadata": {},
   "source": [
    "Write a conditional that checks if a number is even or odd. Print the result. Print \"Even\" if the number is even, \"Odd\" if the number is odd. If the number is 0, print \"Zero\".\n",
    "\n",
    "Input: 10\n",
    "Output: Even\n",
    "\n",
    "Input: 11\n",
    "Output: Odd\n",
    "\n",
    "Input: 0\n",
    "Output: Zero\n",
    "\n",
    "\n"
   ]
  },
  {
   "cell_type": "code",
   "execution_count": 15,
   "metadata": {},
   "outputs": [
    {
     "data": {
      "text/plain": [
       "'Even'"
      ]
     },
     "execution_count": 15,
     "metadata": {},
     "output_type": "execute_result"
    }
   ],
   "source": [
    "def even_or_odd_check(num):\n",
    "   if num == 0: \n",
    "    return 'Zero'\n",
    "   \n",
    "   if num % 2 == 0:\n",
    "    return \"Even\"\n",
    "  \n",
    "   return \"Odd\"\n",
    "   \n",
    "    \n",
    "#even_or_odd_check(0)\n",
    "#even_or_odd_check(1)\n",
    "#even_or_odd_check(2)"
   ]
  },
  {
   "cell_type": "markdown",
   "metadata": {},
   "source": [
    "Write a conditional that returns True if a and b are divisible by 5 or c and d are divisible by 2. Return False otherwise."
   ]
  },
  {
   "cell_type": "code",
   "execution_count": 20,
   "metadata": {},
   "outputs": [
    {
     "data": {
      "text/plain": [
       "True"
      ]
     },
     "execution_count": 20,
     "metadata": {},
     "output_type": "execute_result"
    }
   ],
   "source": [
    "a = 10\n",
    "b = 12\n",
    "c = 14\n",
    "d = 2\n",
    "\n",
    "def check_nums(a,b,c,d):\n",
    "    return bool((a%5==0 and b%5==0) or (c%2==0 and d%2==0))\n",
    "\n",
    "check_nums(a,b,c,d)"
   ]
  },
  {
   "cell_type": "markdown",
   "metadata": {},
   "source": [
    "Write a conditional that checks if a value is in a list. Print \"Found\" if the value is in the list, \"Not Found\" if the value is not in the list.\n",
    "\n",
    "Input: 10, [1, 2, 3, 4, 5, 6, 7, 8, 9, 10]\n",
    "Output: Found\n",
    "\n",
    "Input: 11, [1, 2, 3, 4, 5, 6, 7, 8, 9, 10]\n",
    "Output: Not Found"
   ]
  },
  {
   "cell_type": "code",
   "execution_count": 22,
   "metadata": {},
   "outputs": [
    {
     "name": "stdout",
     "output_type": "stream",
     "text": [
      "Not Found\n"
     ]
    }
   ],
   "source": [
    "num1, list1 = 11, [1, 2, 3, 4, 5, 6, 7, 8, 9, 10]\n",
    "\n",
    "if num1 in list1:\n",
    "    print('Found')\n",
    "else:\n",
    "    print('Not Found')"
   ]
  },
  {
   "cell_type": "markdown",
   "metadata": {},
   "source": [
    "Write a conditional that checks to see if a value is false or falsey. Print \"False\" if the value is false or falsey, \"True\" if the value is true or truthy. Use the 'not' operator.\n",
    "\n",
    "Input: 0\n",
    "Output: False\n",
    "\n",
    "Input: 1\n",
    "Output: True\n",
    "\n",
    "Input: \"\"\n",
    "Output: False\n",
    "\n",
    "\n"
   ]
  },
  {
   "cell_type": "code",
   "execution_count": 29,
   "metadata": {},
   "outputs": [
    {
     "name": "stdout",
     "output_type": "stream",
     "text": [
      "False\n"
     ]
    }
   ],
   "source": [
    "val = 0\n",
    "\n",
    "if val:\n",
    "    print('True')\n",
    "else:\n",
    "    print('False')  \n",
    "\n",
    "\n",
    "# if not val:\n",
    "#     print('False')\n",
    "# else:\n",
    "#     print('True')\n"
   ]
  },
  {
   "cell_type": "markdown",
   "metadata": {},
   "source": [
    "Add a value to the end of a list. Print the list.\n",
    "\n",
    "Input: [1, 2, 3, 4, 5]\n",
    "Output: [1, 2, 3, 4, 5, 6]\n",
    "\n",
    "Input: [1, 2, 3, 4, 5]\n",
    "Output: [1, 2, 3, 4, 5, 6]"
   ]
  },
  {
   "cell_type": "code",
   "execution_count": 30,
   "metadata": {},
   "outputs": [
    {
     "name": "stdout",
     "output_type": "stream",
     "text": [
      "[1, 2, 3, 4, 5, 6]\n"
     ]
    }
   ],
   "source": [
    "list1 = [1, 2, 3, 4, 5]\n",
    "num_to_add = 6\n",
    "\n",
    "list1.append(num_to_add)\n",
    "\n",
    "print(list1)"
   ]
  },
  {
   "cell_type": "markdown",
   "metadata": {},
   "source": [
    "Add 3 values to the end of a list. Print the list.\n",
    "\n",
    "Input: [1, 2, 3, 4, 5]\n",
    "Output: [1, 2, 3, 4, 5, 6, 7, 8]\n",
    "\n",
    "Input: [1, 2, 3, 4, 5]\n",
    "Output: [1, 2, 3, 4, 5, 6, 7, 8]\n"
   ]
  },
  {
   "cell_type": "code",
   "execution_count": 35,
   "metadata": {},
   "outputs": [
    {
     "name": "stdout",
     "output_type": "stream",
     "text": [
      "[1, 2, 3, 4, 5, 6, 7, 8]\n"
     ]
    }
   ],
   "source": [
    "list1 = [1, 2, 3, 4, 5]\n",
    "num_to_add = 6\n",
    "num_to_add2 = 7\n",
    "num_to_add3 = 8\n",
    "\n",
    "list1.extend([num_to_add,num_to_add2,num_to_add3])\n",
    "\n",
    "print(list1)"
   ]
  },
  {
   "cell_type": "markdown",
   "metadata": {},
   "source": [
    "Given a list and a value, remove the value from the list"
   ]
  },
  {
   "cell_type": "code",
   "execution_count": 36,
   "metadata": {},
   "outputs": [
    {
     "name": "stdout",
     "output_type": "stream",
     "text": [
      "[1, 5, 6, 4, 2, 7]\n"
     ]
    }
   ],
   "source": [
    "list1 = [1,5,2,6,4,2,7]\n",
    "val = 2\n",
    "\n",
    "list1.remove(val)\n",
    "\n",
    "print(list1)"
   ]
  },
  {
   "cell_type": "markdown",
   "metadata": {},
   "source": [
    "Access a given value from a multi-dimensional list. Print the value.\n"
   ]
  },
  {
   "cell_type": "code",
   "execution_count": 37,
   "metadata": {},
   "outputs": [
    {
     "name": "stdout",
     "output_type": "stream",
     "text": [
      "8\n"
     ]
    }
   ],
   "source": [
    "list2 = [[1, 2, 3], [4, 5, 6], [7, 8, 9]]\n",
    "value_to_access = 8\n",
    "\n",
    "print(list2[2][1])"
   ]
  },
  {
   "cell_type": "markdown",
   "metadata": {},
   "source": [
    "Given a list of numbers, a value, and a position, insert the value at the given position in the list. Print the list.\n",
    "\n",
    "Input: [1, 2, 3, 4, 5], 6, 2\n",
    "Output: [1, 2, 6, 3, 4, 5]\n",
    "\n",
    "Input: [1, 2, 3, 4, 5], 6, 0\n",
    "Output: [6, 1, 2, 3, 4, 5]"
   ]
  },
  {
   "cell_type": "code",
   "execution_count": 38,
   "metadata": {},
   "outputs": [
    {
     "name": "stdout",
     "output_type": "stream",
     "text": [
      "[1, 2, 6, 3, 4, 5]\n"
     ]
    }
   ],
   "source": [
    "list3, val, pos = [1, 2, 3, 4, 5], 6, 2\n",
    "\n",
    "list3.insert(pos,val)\n",
    "\n",
    "print(list3)"
   ]
  }
 ],
 "metadata": {
  "kernelspec": {
   "display_name": "venv",
   "language": "python",
   "name": "python3"
  },
  "language_info": {
   "codemirror_mode": {
    "name": "ipython",
    "version": 3
   },
   "file_extension": ".py",
   "mimetype": "text/x-python",
   "name": "python",
   "nbconvert_exporter": "python",
   "pygments_lexer": "ipython3",
   "version": "3.12.5"
  }
 },
 "nbformat": 4,
 "nbformat_minor": 2
}
